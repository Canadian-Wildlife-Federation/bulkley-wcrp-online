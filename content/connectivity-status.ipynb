{
 "cells": [
  {
   "cell_type": "code",
   "execution_count": 1,
   "id": "3886d122",
   "metadata": {},
   "outputs": [],
   "source": [
    "#| echo: false\n",
    "import warnings\n",
    "import pandas as pd\n",
    "import numpy as np\n",
    "import python.api_calls as api\n",
    "import python.connectivity_assess as conn_table\n",
    "\n",
    "warnings.filterwarnings('ignore')"
   ]
  },
  {
   "cell_type": "markdown",
   "id": "6142d7cc",
   "metadata": {},
   "source": [
    "# Connectivity Status Assessment and Goals {-}\n",
    "\n",
    "## Key Ecological Attributes and Current Connectivity Status {-}\n",
    "\n",
    "The planning team devised two Key Ecological Attributes (KEAs) and associated indicators to assess the current connectivity status of the watershed – Accessible Spawning Habitat and Accessible Rearing Habitat (@tbl-connectivity). KEAs are the key aspects of anadromous salmonid ecology that are being targeted by this WCRP. The connectivity status for the Anadromous Salmonid KEAs were used to establish goals to improve habitat connectivity in the watershed and will be the baseline against which progress is tracked over time. \n",
    "\n",
    "The current connectivity status assessment relies on GIS analyses to map known and modelled barriers to fish passage, identify stream reaches that have potential spawning and rearing habitat, estimate the proportion of habitat that is currently accessible to target species, and prioritize barriers for field assessment that would provide the greatest gains in connectivity. To support a flexible prioritization framework to identify priority barriers in the watershed, two assumptions are made: 1) any modelled (i.e., passability status is unknown) or partial barriers are treated as complete barriers to passage and 2) the habitat modelling is binary, it does not assign any habitat quality values. As such, the current connectivity status will be refined over time as more data on habitat and barriers are collected. For more detail on how the connectivity status assessments were conducted, see Appendix B.\n"
   ]
  },
  {
   "cell_type": "code",
   "execution_count": 2,
   "id": "tbl-connectivity",
   "metadata": {},
   "outputs": [
    {
     "data": {
      "text/html": [
       "<style type=\"text/css\">\n",
       "#T_ad638 th {\n",
       "  background-color: #008270;\n",
       "  text-align: left;\n",
       "}\n",
       "#T_ad638_row0_col0, #T_ad638_row0_col1, #T_ad638_row0_col2, #T_ad638_row1_col0, #T_ad638_row1_col1, #T_ad638_row1_col3, #T_ad638_row1_col4, #T_ad638_row1_col6 {\n",
       "  background-color: white;\n",
       "}\n",
       "#T_ad638_row0_col3 {\n",
       "  background-color: #ff0000;\n",
       "}\n",
       "#T_ad638_row0_col4 {\n",
       "  background-color: #ffff00;\n",
       "}\n",
       "#T_ad638_row0_col5, #T_ad638_row1_col5 {\n",
       "  background-color: #92d050;\n",
       "}\n",
       "#T_ad638_row0_col6 {\n",
       "  background-color: #03853e;\n",
       "}\n",
       "#T_ad638_row1_col2 {\n",
       "  font-weight: bold;\n",
       "}\n",
       "</style>\n",
       "<table id=\"T_ad638\">\n",
       "  <thead>\n",
       "    <tr>\n",
       "      <th id=\"T_ad638_level0_col0\" class=\"col_heading level0 col0\" >Target Species</th>\n",
       "      <th id=\"T_ad638_level0_col1\" class=\"col_heading level0 col1\" >KEA</th>\n",
       "      <th id=\"T_ad638_level0_col2\" class=\"col_heading level0 col2\" >Indicator</th>\n",
       "      <th id=\"T_ad638_level0_col3\" class=\"col_heading level0 col3\" >Poor</th>\n",
       "      <th id=\"T_ad638_level0_col4\" class=\"col_heading level0 col4\" >Fair</th>\n",
       "      <th id=\"T_ad638_level0_col5\" class=\"col_heading level0 col5\" >Good</th>\n",
       "      <th id=\"T_ad638_level0_col6\" class=\"col_heading level0 col6\" >Very Good</th>\n",
       "    </tr>\n",
       "  </thead>\n",
       "  <tbody>\n",
       "    <tr>\n",
       "      <td id=\"T_ad638_row0_col0\" class=\"data row0 col0\" >Andromous Salmon</td>\n",
       "      <td id=\"T_ad638_row0_col1\" class=\"data row0 col1\" >Available Spawning Habitat</td>\n",
       "      <td id=\"T_ad638_row0_col2\" class=\"data row0 col2\" >% of total spawning habitat</td>\n",
       "      <td id=\"T_ad638_row0_col3\" class=\"data row0 col3\" ><50%</td>\n",
       "      <td id=\"T_ad638_row0_col4\" class=\"data row0 col4\" >51-75%</td>\n",
       "      <td id=\"T_ad638_row0_col5\" class=\"data row0 col5\" >76-90%</td>\n",
       "      <td id=\"T_ad638_row0_col6\" class=\"data row0 col6\" >>90%</td>\n",
       "    </tr>\n",
       "    <tr>\n",
       "      <td id=\"T_ad638_row1_col0\" class=\"data row1 col0\" > </td>\n",
       "      <td id=\"T_ad638_row1_col1\" class=\"data row1 col1\" > </td>\n",
       "      <td id=\"T_ad638_row1_col2\" class=\"data row1 col2\" >Current Status:</td>\n",
       "      <td id=\"T_ad638_row1_col3\" class=\"data row1 col3\" > </td>\n",
       "      <td id=\"T_ad638_row1_col4\" class=\"data row1 col4\" > </td>\n",
       "      <td id=\"T_ad638_row1_col5\" class=\"data row1 col5\" >88</td>\n",
       "      <td id=\"T_ad638_row1_col6\" class=\"data row1 col6\" > </td>\n",
       "    </tr>\n",
       "  </tbody>\n",
       "</table>\n"
      ],
      "text/plain": [
       "<pandas.io.formats.style.Styler at 0x28d8930dc70>"
      ]
     },
     "execution_count": 2,
     "metadata": {},
     "output_type": "execute_result"
    }
   ],
   "source": [
    "#| label: tbl-connectivity\n",
    "#| tbl-cap: Connectivity status assessment for spawning (a) and rearing (b) habitat in the Bulkley River watershed. The two KEAs - Accessible Spawning Habitat and Accessible Rearing Habitat - are evaluated by dividing the length of linear habitat (of each type) that is currently accessible to target species by the total length of all linear habitat (of each type) in the watershed.\n",
    "#| warning: false\n",
    "#| echo: false\n",
    "\n",
    "df = conn_table.make_assess_table(\"Andromous Salmon\", \"Available Spawning Habitat\", \"% of total spawning habitat\", 50, 75, 90, api.connect_spawn)\n",
    "df"
   ]
  },
  {
   "cell_type": "markdown",
   "id": "a33835dc",
   "metadata": {},
   "source": [
    "**Comments:** Indicator rating definitions are based on the consensus decisions of the planning team. The current status is based on the CWF Barrier Prioritization Model output, which is current as of October 2022.\n"
   ]
  },
  {
   "cell_type": "code",
   "execution_count": 3,
   "id": "e895a5a9",
   "metadata": {},
   "outputs": [
    {
     "data": {
      "text/html": [
       "<style type=\"text/css\">\n",
       "#T_8e378 th {\n",
       "  background-color: #008270;\n",
       "  text-align: left;\n",
       "}\n",
       "#T_8e378_row0_col0, #T_8e378_row0_col1, #T_8e378_row0_col2, #T_8e378_row1_col0, #T_8e378_row1_col1, #T_8e378_row1_col3, #T_8e378_row1_col5, #T_8e378_row1_col6 {\n",
       "  background-color: white;\n",
       "}\n",
       "#T_8e378_row0_col3 {\n",
       "  background-color: #ff0000;\n",
       "}\n",
       "#T_8e378_row0_col4, #T_8e378_row1_col4 {\n",
       "  background-color: #ffff00;\n",
       "}\n",
       "#T_8e378_row0_col5 {\n",
       "  background-color: #92d050;\n",
       "}\n",
       "#T_8e378_row0_col6 {\n",
       "  background-color: #03853e;\n",
       "}\n",
       "#T_8e378_row1_col2 {\n",
       "  font-weight: bold;\n",
       "}\n",
       "</style>\n",
       "<table id=\"T_8e378\">\n",
       "  <thead>\n",
       "    <tr>\n",
       "      <th id=\"T_8e378_level0_col0\" class=\"col_heading level0 col0\" >Target Species</th>\n",
       "      <th id=\"T_8e378_level0_col1\" class=\"col_heading level0 col1\" >KEA</th>\n",
       "      <th id=\"T_8e378_level0_col2\" class=\"col_heading level0 col2\" >Indicator</th>\n",
       "      <th id=\"T_8e378_level0_col3\" class=\"col_heading level0 col3\" >Poor</th>\n",
       "      <th id=\"T_8e378_level0_col4\" class=\"col_heading level0 col4\" >Fair</th>\n",
       "      <th id=\"T_8e378_level0_col5\" class=\"col_heading level0 col5\" >Good</th>\n",
       "      <th id=\"T_8e378_level0_col6\" class=\"col_heading level0 col6\" >Very Good</th>\n",
       "    </tr>\n",
       "  </thead>\n",
       "  <tbody>\n",
       "    <tr>\n",
       "      <td id=\"T_8e378_row0_col0\" class=\"data row0 col0\" >Andromous Salmon</td>\n",
       "      <td id=\"T_8e378_row0_col1\" class=\"data row0 col1\" >Available Rearing Habitat</td>\n",
       "      <td id=\"T_8e378_row0_col2\" class=\"data row0 col2\" >% of total rearing habitat</td>\n",
       "      <td id=\"T_8e378_row0_col3\" class=\"data row0 col3\" ><50%</td>\n",
       "      <td id=\"T_8e378_row0_col4\" class=\"data row0 col4\" >51-75%</td>\n",
       "      <td id=\"T_8e378_row0_col5\" class=\"data row0 col5\" >76-90%</td>\n",
       "      <td id=\"T_8e378_row0_col6\" class=\"data row0 col6\" >>90%</td>\n",
       "    </tr>\n",
       "    <tr>\n",
       "      <td id=\"T_8e378_row1_col0\" class=\"data row1 col0\" > </td>\n",
       "      <td id=\"T_8e378_row1_col1\" class=\"data row1 col1\" > </td>\n",
       "      <td id=\"T_8e378_row1_col2\" class=\"data row1 col2\" >Current Status:</td>\n",
       "      <td id=\"T_8e378_row1_col3\" class=\"data row1 col3\" > </td>\n",
       "      <td id=\"T_8e378_row1_col4\" class=\"data row1 col4\" >52</td>\n",
       "      <td id=\"T_8e378_row1_col5\" class=\"data row1 col5\" > </td>\n",
       "      <td id=\"T_8e378_row1_col6\" class=\"data row1 col6\" > </td>\n",
       "    </tr>\n",
       "  </tbody>\n",
       "</table>\n"
      ],
      "text/plain": [
       "<pandas.io.formats.style.Styler at 0x28d89561c70>"
      ]
     },
     "execution_count": 3,
     "metadata": {},
     "output_type": "execute_result"
    }
   ],
   "source": [
    "#| warning: false\n",
    "#| echo: false\n",
    "\n",
    "df = conn_table.make_assess_table(\"Andromous Salmon\", \"Available Rearing Habitat\", \"% of total rearing habitat\", 50, 75, 90, api.connect_rear)\n",
    "df\n"
   ]
  },
  {
   "cell_type": "markdown",
   "id": "7ad9c5bb",
   "metadata": {},
   "source": [
    "**Comments:** Indicator rating definitions are based on the consensus decisions of the planning team. The current status is based on the CWF Barrier Prioritization Model output, which is current as of October 2022. \n",
    "\n",
    "\n",
    "## Goals {-}\n"
   ]
  },
  {
   "cell_type": "code",
   "execution_count": 4,
   "id": "tbl-goals",
   "metadata": {},
   "outputs": [
    {
     "data": {
      "text/html": [
       "<style type=\"text/css\">\n",
       "#T_c16ab th {\n",
       "  background-color: #008270;\n",
       "  text-align: left;\n",
       "}\n",
       "#T_c16ab_row0_col0, #T_c16ab_row0_col1, #T_c16ab_row1_col0, #T_c16ab_row1_col1 {\n",
       "  text-align: left;\n",
       "}\n",
       "</style>\n",
       "<table id=\"T_c16ab\">\n",
       "  <thead>\n",
       "    <tr>\n",
       "      <th id=\"T_c16ab_level0_col0\" class=\"col_heading level0 col0\" >Goal #</th>\n",
       "      <th id=\"T_c16ab_level0_col1\" class=\"col_heading level0 col1\" >Goal</th>\n",
       "    </tr>\n",
       "  </thead>\n",
       "  <tbody>\n",
       "    <tr>\n",
       "      <td id=\"T_c16ab_row0_col0\" class=\"data row0 col0\" >1</td>\n",
       "      <td id=\"T_c16ab_row0_col1\" class=\"data row0 col1\" >By 2031, the percent (%) of total linear spawning habitat accessible to anadromous salmonids will increase from 88% to 95% within the Bulkley River watershed (i.e., reconnect at least 23 km of spawning habitat).</td>\n",
       "    </tr>\n",
       "    <tr>\n",
       "      <td id=\"T_c16ab_row1_col0\" class=\"data row1 col0\" >2</td>\n",
       "      <td id=\"T_c16ab_row1_col1\" class=\"data row1 col1\" >By 2031, the percent (%) of total linear rearing habitat accessible to anadromous salmonids will increase from 52% to 80% within the Bulkley River watershed (i.e., reconnect at least 46 km of rearing habitat). </td>\n",
       "    </tr>\n",
       "  </tbody>\n",
       "</table>\n"
      ],
      "text/plain": [
       "<pandas.io.formats.style.Styler at 0x28d8931fc10>"
      ]
     },
     "execution_count": 4,
     "metadata": {},
     "output_type": "execute_result"
    }
   ],
   "source": [
    "#| label: tbl-goals\n",
    "#| tbl-cap: 'Goals to improve spawning (1) and rearing (2) habitat connectivity for target species in the Bulkley River watershed over the lifespan of the WCRP (2021-2031). The goals were established through discussions with the planning team and represent the resulting desired state of connectivity in the watershed. The goals are subject to change as more information and data are collected over the course of the plan timeline (e.g., the current connectivity status is updated based on barrier field assessments).'\n",
    "#| warning: false\n",
    "#| echo: false\n",
    "\n",
    "#creating table 7\n",
    "import warnings\n",
    "\n",
    "warnings.filterwarnings('ignore')\n",
    "import pandas as pd\n",
    "import numpy as np\n",
    "\n",
    "df = pd.DataFrame({\"Goal #\": [1,2],\n",
    "                   \"Goal\": [\"By 2031, the percent (%) of total linear spawning habitat accessible to anadromous salmonids will increase from \"+ str(api.watershed_connectivity(\"SPAWNING\")[0]) +\"% to 95% within the Bulkley River watershed (i.e., reconnect at least \"+str(round(api.gain_spawn))+\" km of spawning habitat).\",\n",
    "                            \"By 2031, the percent (%) of total linear rearing habitat accessible to anadromous salmonids will increase from \"+str(api.watershed_connectivity(\"REARING\")[0])+\"% to 80% within the Bulkley River watershed (i.e., reconnect at least \"+str(round(api.gain_rear))+\" km of rearing habitat). \"]\n",
    "                    })\n",
    "\n",
    "data = df.style.hide().set_properties(**{'text-align': 'left'})\n",
    "\n",
    "data.set_table_styles(\n",
    "   [{\n",
    "       'selector': 'th',\n",
    "       'props': [('background-color', '#008270'),('text-align', 'left')]\n",
    "   }])"
   ]
  }
 ],
 "metadata": {
  "kernelspec": {
   "display_name": "Python 3 (ipykernel)",
   "language": "python",
   "name": "python3"
  },
  "language_info": {
   "codemirror_mode": {
    "name": "ipython",
    "version": 3
   },
   "file_extension": ".py",
   "mimetype": "text/x-python",
   "name": "python",
   "nbconvert_exporter": "python",
   "pygments_lexer": "ipython3",
   "version": "3.9.5"
  }
 },
 "nbformat": 4,
 "nbformat_minor": 5
}
