{
  "cells": [
    {
      "cell_type": "code",
      "metadata": {},
      "source": [
        "#| echo: false\n",
        "import warnings\n",
        "import pandas as pd\n",
        "import numpy as np\n",
        "import python.api_calls as api\n",
        "import python.connectivity_assess as conn_table\n",
        "\n",
        "warnings.filterwarnings('ignore')"
      ],
      "id": "42d162f1",
      "execution_count": null,
      "outputs": []
    },
    {
      "cell_type": "markdown",
      "metadata": {},
      "source": [
        "# Connectivity Status Assessment and Goals {-}\n",
        "\n",
        "## Key Ecological Attributes and Current Connectivity Status {-}\n",
        "\n",
        "The planning team devised two Key Ecological Attributes (KEAs) and associated indicators to assess the current connectivity status of the watershed – Accessible Spawning Habitat and Accessible Rearing Habitat (@tbl-connectivity). KEAs are the key aspects of anadromous salmonid ecology that are being targeted by this WCRP. The connectivity status for the Anadromous Salmonid KEAs were used to establish goals to improve habitat connectivity in the watershed and will be the baseline against which progress is tracked over time. \n",
        "\n",
        "The current connectivity status assessment relies on GIS analyses to map known and modelled barriers to fish passage, identify stream reaches that have potential spawning and rearing habitat, estimate the proportion of habitat that is currently accessible to target species, and prioritize barriers for field assessment that would provide the greatest gains in connectivity. To support a flexible prioritization framework to identify priority barriers in the watershed, two assumptions are made: 1) any modelled (i.e., passability status is unknown) or partial barriers are treated as complete barriers to passage and 2) the habitat modelling is binary, it does not assign any habitat quality values. As such, the current connectivity status will be refined over time as more data on habitat and barriers are collected. For more detail on how the connectivity status assessments were conducted, see Appendix B.\n"
      ],
      "id": "598fd80a"
    },
    {
      "cell_type": "code",
      "metadata": {},
      "source": [
        "#| label: tbl-connectivity\n",
        "#| tbl-cap: Connectivity status assessment for spawning (a) and rearing (b) habitat in the Bulkley River watershed. The two KEAs - Accessible Spawning Habitat and Accessible Rearing Habitat - are evaluated by dividing the length of linear habitat (of each type) that is currently accessible to target species by the total length of all linear habitat (of each type) in the watershed.\n",
        "#| warning: false\n",
        "#| echo: false\n",
        "\n",
        "df = conn_table.make_assess_table(\"Andromous Salmon\", \"Available Spawning Habitat\", \"% of total spawning habitat\", 50, 75, 90, api.connect_spawn)\n",
        "df"
      ],
      "id": "tbl-connectivity",
      "execution_count": null,
      "outputs": []
    },
    {
      "cell_type": "markdown",
      "metadata": {},
      "source": [
        "**Comments:** Indicator rating definitions are based on the consensus decisions of the planning team. The current status is based on the CWF Barrier Prioritization Model output, which is current as of October 2022.\n"
      ],
      "id": "35954712"
    },
    {
      "cell_type": "code",
      "metadata": {},
      "source": [
        "#| warning: false\n",
        "#| echo: false\n",
        "\n",
        "df = conn_table.make_assess_table(\"Andromous Salmon\", \"Available Rearing Habitat\", \"% of total rearing habitat\", 50, 75, 90, api.connect_rear)\n",
        "df\n"
      ],
      "id": "73003e10",
      "execution_count": null,
      "outputs": []
    },
    {
      "cell_type": "markdown",
      "metadata": {},
      "source": [
        "**Comments:** Indicator rating definitions are based on the consensus decisions of the planning team. The current status is based on the CWF Barrier Prioritization Model output, which is current as of October 2022. \n",
        "\n",
        "\n",
        "## Goals {-}\n"
      ],
      "id": "0890ba80"
    },
    {
      "cell_type": "code",
      "metadata": {},
      "source": [
        "#| label: tbl-goals\n",
        "#| tbl-cap: 'Goals to improve spawning (1) and rearing (2) habitat connectivity for target species in the Bulkley River watershed over the lifespan of the WCRP (2021-2031). The goals were established through discussions with the planning team and represent the resulting desired state of connectivity in the watershed. The goals are subject to change as more information and data are collected over the course of the plan timeline (e.g., the current connectivity status is updated based on barrier field assessments).'\n",
        "#| warning: false\n",
        "#| echo: false\n",
        "\n",
        "#creating table 7\n",
        "import warnings\n",
        "\n",
        "warnings.filterwarnings('ignore')\n",
        "import pandas as pd\n",
        "import numpy as np\n",
        "\n",
        "df = pd.DataFrame({\"Goal #\": [1,2],\n",
        "                   \"Goal\": [\"By 2031, the percent (%) of total linear spawning habitat accessible to anadromous salmonids will increase from \"+ str(api.watershed_connectivity(\"SPAWNING\")[0]) +\"% to 95% within the Bulkley River watershed (i.e., reconnect at least \"+str(round(api.gain_spawn))+\" km of spawning habitat).\",\n",
        "                            \"By 2031, the percent (%) of total linear rearing habitat accessible to anadromous salmonids will increase from \"+str(api.watershed_connectivity(\"REARING\")[0])+\"% to 80% within the Bulkley River watershed (i.e., reconnect at least \"+str(round(api.gain_rear))+\" km of rearing habitat). \"]\n",
        "                    })\n",
        "\n",
        "data = df.style.hide().set_properties(**{'text-align': 'left'})\n",
        "\n",
        "data.set_table_styles(\n",
        "   [{\n",
        "       'selector': 'th',\n",
        "       'props': [('background-color', '#008270'),('text-align', 'left')]\n",
        "   }])"
      ],
      "id": "tbl-goals",
      "execution_count": null,
      "outputs": []
    }
  ],
  "metadata": {
    "kernelspec": {
      "display_name": "Python 3",
      "language": "python",
      "name": "python3"
    }
  },
  "nbformat": 4,
  "nbformat_minor": 5
}