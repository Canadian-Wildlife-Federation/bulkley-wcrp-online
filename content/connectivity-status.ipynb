{
  "cells": [
    {
      "cell_type": "code",
      "metadata": {},
      "source": [
        "#| echo: false\n",
        "import warnings\n",
        "import pandas as pd\n",
        "import numpy as np\n",
        "import python.api_calls as api\n",
        "import python.connectivity_assess as conn_table\n",
        "\n",
        "warnings.filterwarnings('ignore')"
      ],
      "id": "a7665e8f",
      "execution_count": null,
      "outputs": []
    },
    {
      "cell_type": "markdown",
      "metadata": {},
      "source": [
        "# Connectivity Status Assessment and Goals {-}\n",
        "\n",
        "## Connectivity Status Assessment {-}\n",
        "\n",
        "The planning team identified two Key Ecological Attributes (KEAs) to assess the current connectivity status of the watershed for each focal species: available spawning habitat and available rearing habitat (@tbl-connectivity). KEAs are the key aspects of anadromous salmon habitat that are being targeted by this WCRP. For each KEA, an associated indicator was assigned to measure the status of that KEA. The connectivity status indicators were used to establish goals to improve key habitat connectivity over time and is the baseline against which progress is tracked over time.\n",
        "\n",
        "The current connectivity status was estimated using three spatial models:\n",
        "\n",
        "1.\tAccessibility model: Naturally accessible waterbodies are those that are considered likely accessible to focal species if no human-made barriers existed on the landscape. These were spatially delineated for each focal species using natural barriers (i.e., waterfalls, gradient barriers, or subsurface flows) that would naturally limit upstream movement.\n",
        "\n",
        "2.\tHabitat model: A subset of the naturally accessible waterbody layer was defined as key habitat, i.e., habitat likely to support spawning or rearing, rather than simply movement corridors. The habitat model identifies areas within waterbodies that have a higher potential to support key habitat based on stream channel gradient and discharge. The habitat model criteria can be found in (@tbl-param-bulkley).\n",
        "\n",
        "3.\tConnectivity model: A layer of known or modelled structures was overlaid  on the key habitat results. Structures  with unknown passability were treated as a full barrier until confirmed passable by either local knowledge, desktop review, or field assessment. Watershed connectivity was estimated by calculating the amount of key habitat that is connected to the ocean (i.e., not fragmented by human-made barriers). Key habitat with no structures or only passable structures downstream was considered connected. Key habitat upstream of full, partial, or potential barriers was considered disconnected. All connected habitat was summed and divided by the total amount of key habitat in the watershed to arrive at the KEA indicators. Detailed methods for the connectivity model can be found in [Appendix C](data-methods.qmd)\n"
      ],
      "id": "d33d8f96"
    },
    {
      "cell_type": "code",
      "metadata": {},
      "source": [
        "#| label: tbl-connectivity\n",
        "#| tbl-cap: Connectivity status assessment for spawning (a) and rearing (b) habitat in the Bulkley River watershed. The two KEAs - Accessible Spawning Habitat and Accessible Rearing Habitat - are evaluated by dividing the length of linear habitat (of each type) that is currently accessible to focal species by the total length of all linear habitat (of each type) in the watershed.\n",
        "#| warning: false\n",
        "#| echo: false\n",
        "\n",
        "df = conn_table.make_assess_table(\"Andromous Salmon\", \"Available Spawning Habitat\", \"% of total spawning habitat\", 50, 75, 90, api.connect_spawn)\n",
        "df"
      ],
      "id": "tbl-connectivity",
      "execution_count": null,
      "outputs": []
    },
    {
      "cell_type": "markdown",
      "metadata": {},
      "source": [
        "**Comments:** Indicator rating definitions are based on the consensus decisions of the planning team. The current status is based on the connectivity model output, which is current as of December 2024.\n"
      ],
      "id": "7e3bebba"
    },
    {
      "cell_type": "code",
      "metadata": {},
      "source": [
        "#| warning: false\n",
        "#| echo: false\n",
        "\n",
        "df = conn_table.make_assess_table(\"Andromous Salmon\", \"Available Rearing Habitat\", \"% of total rearing habitat\", 50, 75, 90, api.connect_rear)\n",
        "df\n"
      ],
      "id": "1c24904b",
      "execution_count": null,
      "outputs": []
    },
    {
      "cell_type": "markdown",
      "metadata": {},
      "source": [
        "**Comments:** Indicator rating definitions are based on the consensus decisions of the planning team. The current status is based on the connectivity model output, which is current as of December 2024. \n",
        "\n",
        "\n",
        "## Goals {-}\n"
      ],
      "id": "e331c8f1"
    },
    {
      "cell_type": "code",
      "metadata": {},
      "source": [
        "#| label: tbl-goals\n",
        "#| tbl-cap: 'Goals to improve spawning (1) and rearing (2) habitat connectivity for focal species in the Bulkley River watershed over the lifespan of the WCRP (2021-2031). The goals were established through discussions with the planning team and represent the resulting desired state of connectivity in the watershed. The goals are subject to change as more information and data are collected over the course of the plan timeline (e.g., the current connectivity status is updated based on barrier field assessments).'\n",
        "#| warning: false\n",
        "#| echo: false\n",
        "\n",
        "#creating table 7\n",
        "import warnings\n",
        "\n",
        "warnings.filterwarnings('ignore')\n",
        "import pandas as pd\n",
        "import numpy as np\n",
        "\n",
        "df = pd.DataFrame({\"Goal #\": [1,2],\n",
        "                   \"Goal\": [\"By 2031, the percent (%) of total linear spawning habitat connected for anadromous salmonids will increase from \"+ str(api.watershed_connectivity(\"SPAWNING\")[0]) +\"% to 95% within the Bulkley River watershed (i.e., reconnect at least \"+str(round(api.gain_spawn))+\" km of spawning habitat).\",\n",
        "                            \"By 2031, the percent (%) of total linear rearing habitat connected for anadromous salmonids will increase from \"+str(api.watershed_connectivity(\"REARING\")[0])+\"% to 80% within the Bulkley River watershed (i.e., reconnect at least \"+str(round(api.gain_rear))+\" km of rearing habitat). \"]\n",
        "                    })\n",
        "\n",
        "data = df.style.hide().set_properties(**{'text-align': 'left'})\n",
        "\n",
        "data.set_table_styles(\n",
        "   [{\n",
        "       'selector': 'th',\n",
        "       'props': [('background-color', '#008270'),('text-align', 'left')]\n",
        "   }])"
      ],
      "id": "tbl-goals",
      "execution_count": null,
      "outputs": []
    }
  ],
  "metadata": {
    "kernelspec": {
      "display_name": "Python 3",
      "language": "python",
      "name": "python3"
    }
  },
  "nbformat": 4,
  "nbformat_minor": 5
}